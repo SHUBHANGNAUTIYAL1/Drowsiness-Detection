{
 "cells": [
  {
   "cell_type": "code",
   "execution_count": 1,
   "id": "7b9f0ed5",
   "metadata": {},
   "outputs": [
    {
     "name": "stdout",
     "output_type": "stream",
     "text": [
      "Requirement already satisfied: torch in c:\\users\\user\\anaconda3\\lib\\site-packages (1.13.1)\n",
      "Requirement already satisfied: torchvision in c:\\users\\user\\anaconda3\\lib\\site-packages (0.14.1)\n",
      "Requirement already satisfied: torchaudio in c:\\users\\user\\anaconda3\\lib\\site-packages (0.13.1)\n",
      "Requirement already satisfied: typing-extensions in c:\\users\\user\\anaconda3\\lib\\site-packages (from torch) (4.3.0)\n",
      "Requirement already satisfied: numpy in c:\\users\\user\\anaconda3\\lib\\site-packages (from torchvision) (1.21.5)\n",
      "Requirement already satisfied: requests in c:\\users\\user\\anaconda3\\lib\\site-packages (from torchvision) (2.28.1)\n",
      "Requirement already satisfied: pillow!=8.3.*,>=5.3.0 in c:\\users\\user\\anaconda3\\lib\\site-packages (from torchvision) (9.2.0)\n",
      "Requirement already satisfied: urllib3<1.27,>=1.21.1 in c:\\users\\user\\anaconda3\\lib\\site-packages (from requests->torchvision) (1.26.11)\n",
      "Requirement already satisfied: idna<4,>=2.5 in c:\\users\\user\\anaconda3\\lib\\site-packages (from requests->torchvision) (3.3)\n",
      "Requirement already satisfied: certifi>=2017.4.17 in c:\\users\\user\\anaconda3\\lib\\site-packages (from requests->torchvision) (2022.9.14)\n",
      "Requirement already satisfied: charset-normalizer<3,>=2 in c:\\users\\user\\anaconda3\\lib\\site-packages (from requests->torchvision) (2.0.4)\n"
     ]
    }
   ],
   "source": [
    "!pip3 install torch torchvision torchaudio"
   ]
  },
  {
   "cell_type": "code",
   "execution_count": 2,
   "id": "833962ec",
   "metadata": {},
   "outputs": [
    {
     "name": "stderr",
     "output_type": "stream",
     "text": [
      "Cloning into 'yolov5'...\n"
     ]
    }
   ],
   "source": [
    "!git clone https://github.com/ultralytics/yolov5 "
   ]
  },
  {
   "cell_type": "code",
   "execution_count": 3,
   "id": "de34cebd",
   "metadata": {},
   "outputs": [
    {
     "name": "stdout",
     "output_type": "stream",
     "text": [
      "Requirement already satisfied: gitpython in c:\\users\\user\\anaconda3\\lib\\site-packages (from -r yolov5/requirements.txt (line 5)) (3.1.30)\n",
      "Requirement already satisfied: ipython in c:\\users\\user\\anaconda3\\lib\\site-packages (from -r yolov5/requirements.txt (line 6)) (7.31.1)\n",
      "Requirement already satisfied: matplotlib>=3.2.2 in c:\\users\\user\\anaconda3\\lib\\site-packages (from -r yolov5/requirements.txt (line 7)) (3.5.2)\n",
      "Requirement already satisfied: numpy>=1.18.5 in c:\\users\\user\\anaconda3\\lib\\site-packages (from -r yolov5/requirements.txt (line 8)) (1.21.5)\n",
      "Requirement already satisfied: opencv-python>=4.1.1 in c:\\users\\user\\anaconda3\\lib\\site-packages (from -r yolov5/requirements.txt (line 9)) (4.7.0.68)\n",
      "Requirement already satisfied: Pillow>=7.1.2 in c:\\users\\user\\anaconda3\\lib\\site-packages (from -r yolov5/requirements.txt (line 10)) (9.2.0)\n",
      "Requirement already satisfied: psutil in c:\\users\\user\\anaconda3\\lib\\site-packages (from -r yolov5/requirements.txt (line 11)) (5.9.0)\n",
      "Requirement already satisfied: PyYAML>=5.3.1 in c:\\users\\user\\anaconda3\\lib\\site-packages (from -r yolov5/requirements.txt (line 12)) (6.0)\n",
      "Requirement already satisfied: requests>=2.23.0 in c:\\users\\user\\anaconda3\\lib\\site-packages (from -r yolov5/requirements.txt (line 13)) (2.28.1)\n",
      "Requirement already satisfied: scipy>=1.4.1 in c:\\users\\user\\anaconda3\\lib\\site-packages (from -r yolov5/requirements.txt (line 14)) (1.9.1)\n",
      "Requirement already satisfied: thop>=0.1.1 in c:\\users\\user\\anaconda3\\lib\\site-packages (from -r yolov5/requirements.txt (line 15)) (0.1.1.post2209072238)\n",
      "Requirement already satisfied: torch>=1.7.0 in c:\\users\\user\\anaconda3\\lib\\site-packages (from -r yolov5/requirements.txt (line 16)) (1.13.1)\n",
      "Requirement already satisfied: torchvision>=0.8.1 in c:\\users\\user\\anaconda3\\lib\\site-packages (from -r yolov5/requirements.txt (line 17)) (0.14.1)\n",
      "Requirement already satisfied: tqdm>=4.64.0 in c:\\users\\user\\anaconda3\\lib\\site-packages (from -r yolov5/requirements.txt (line 18)) (4.64.1)\n",
      "Requirement already satisfied: tensorboard>=2.4.1 in c:\\users\\user\\anaconda3\\lib\\site-packages (from -r yolov5/requirements.txt (line 22)) (2.11.2)\n",
      "Requirement already satisfied: pandas>=1.1.4 in c:\\users\\user\\anaconda3\\lib\\site-packages (from -r yolov5/requirements.txt (line 27)) (1.4.4)\n",
      "Requirement already satisfied: seaborn>=0.11.0 in c:\\users\\user\\anaconda3\\lib\\site-packages (from -r yolov5/requirements.txt (line 28)) (0.11.2)\n",
      "Requirement already satisfied: gitdb<5,>=4.0.1 in c:\\users\\user\\anaconda3\\lib\\site-packages (from gitpython->-r yolov5/requirements.txt (line 5)) (4.0.10)\n",
      "Requirement already satisfied: pickleshare in c:\\users\\user\\anaconda3\\lib\\site-packages (from ipython->-r yolov5/requirements.txt (line 6)) (0.7.5)\n",
      "Requirement already satisfied: jedi>=0.16 in c:\\users\\user\\anaconda3\\lib\\site-packages (from ipython->-r yolov5/requirements.txt (line 6)) (0.18.1)\n",
      "Requirement already satisfied: prompt-toolkit!=3.0.0,!=3.0.1,<3.1.0,>=2.0.0 in c:\\users\\user\\anaconda3\\lib\\site-packages (from ipython->-r yolov5/requirements.txt (line 6)) (3.0.20)\n",
      "Requirement already satisfied: decorator in c:\\users\\user\\anaconda3\\lib\\site-packages (from ipython->-r yolov5/requirements.txt (line 6)) (5.1.1)\n",
      "Requirement already satisfied: pygments in c:\\users\\user\\anaconda3\\lib\\site-packages (from ipython->-r yolov5/requirements.txt (line 6)) (2.11.2)\n",
      "Requirement already satisfied: matplotlib-inline in c:\\users\\user\\anaconda3\\lib\\site-packages (from ipython->-r yolov5/requirements.txt (line 6)) (0.1.6)\n",
      "Requirement already satisfied: traitlets>=4.2 in c:\\users\\user\\anaconda3\\lib\\site-packages (from ipython->-r yolov5/requirements.txt (line 6)) (5.1.1)\n",
      "Requirement already satisfied: setuptools>=18.5 in c:\\users\\user\\anaconda3\\lib\\site-packages (from ipython->-r yolov5/requirements.txt (line 6)) (63.4.1)\n",
      "Requirement already satisfied: backcall in c:\\users\\user\\anaconda3\\lib\\site-packages (from ipython->-r yolov5/requirements.txt (line 6)) (0.2.0)\n",
      "Requirement already satisfied: colorama in c:\\users\\user\\anaconda3\\lib\\site-packages (from ipython->-r yolov5/requirements.txt (line 6)) (0.4.5)\n",
      "Requirement already satisfied: pyparsing>=2.2.1 in c:\\users\\user\\anaconda3\\lib\\site-packages (from matplotlib>=3.2.2->-r yolov5/requirements.txt (line 7)) (3.0.9)\n",
      "Requirement already satisfied: fonttools>=4.22.0 in c:\\users\\user\\anaconda3\\lib\\site-packages (from matplotlib>=3.2.2->-r yolov5/requirements.txt (line 7)) (4.25.0)\n",
      "Requirement already satisfied: cycler>=0.10 in c:\\users\\user\\anaconda3\\lib\\site-packages (from matplotlib>=3.2.2->-r yolov5/requirements.txt (line 7)) (0.11.0)\n",
      "Requirement already satisfied: packaging>=20.0 in c:\\users\\user\\anaconda3\\lib\\site-packages (from matplotlib>=3.2.2->-r yolov5/requirements.txt (line 7)) (21.3)\n",
      "Requirement already satisfied: kiwisolver>=1.0.1 in c:\\users\\user\\anaconda3\\lib\\site-packages (from matplotlib>=3.2.2->-r yolov5/requirements.txt (line 7)) (1.4.2)\n",
      "Requirement already satisfied: python-dateutil>=2.7 in c:\\users\\user\\anaconda3\\lib\\site-packages (from matplotlib>=3.2.2->-r yolov5/requirements.txt (line 7)) (2.8.2)\n",
      "Requirement already satisfied: idna<4,>=2.5 in c:\\users\\user\\anaconda3\\lib\\site-packages (from requests>=2.23.0->-r yolov5/requirements.txt (line 13)) (3.3)\n",
      "Requirement already satisfied: certifi>=2017.4.17 in c:\\users\\user\\anaconda3\\lib\\site-packages (from requests>=2.23.0->-r yolov5/requirements.txt (line 13)) (2022.9.14)\n",
      "Requirement already satisfied: charset-normalizer<3,>=2 in c:\\users\\user\\anaconda3\\lib\\site-packages (from requests>=2.23.0->-r yolov5/requirements.txt (line 13)) (2.0.4)\n",
      "Requirement already satisfied: urllib3<1.27,>=1.21.1 in c:\\users\\user\\anaconda3\\lib\\site-packages (from requests>=2.23.0->-r yolov5/requirements.txt (line 13)) (1.26.11)\n",
      "Requirement already satisfied: typing-extensions in c:\\users\\user\\anaconda3\\lib\\site-packages (from torch>=1.7.0->-r yolov5/requirements.txt (line 16)) (4.3.0)\n",
      "Requirement already satisfied: absl-py>=0.4 in c:\\users\\user\\anaconda3\\lib\\site-packages (from tensorboard>=2.4.1->-r yolov5/requirements.txt (line 22)) (1.4.0)\n",
      "Requirement already satisfied: grpcio>=1.24.3 in c:\\users\\user\\anaconda3\\lib\\site-packages (from tensorboard>=2.4.1->-r yolov5/requirements.txt (line 22)) (1.51.1)\n",
      "Requirement already satisfied: tensorboard-data-server<0.7.0,>=0.6.0 in c:\\users\\user\\anaconda3\\lib\\site-packages (from tensorboard>=2.4.1->-r yolov5/requirements.txt (line 22)) (0.6.1)\n",
      "Requirement already satisfied: markdown>=2.6.8 in c:\\users\\user\\anaconda3\\lib\\site-packages (from tensorboard>=2.4.1->-r yolov5/requirements.txt (line 22)) (3.3.4)\n",
      "Requirement already satisfied: tensorboard-plugin-wit>=1.6.0 in c:\\users\\user\\anaconda3\\lib\\site-packages (from tensorboard>=2.4.1->-r yolov5/requirements.txt (line 22)) (1.8.1)\n",
      "Requirement already satisfied: wheel>=0.26 in c:\\users\\user\\anaconda3\\lib\\site-packages (from tensorboard>=2.4.1->-r yolov5/requirements.txt (line 22)) (0.37.1)\n",
      "Requirement already satisfied: protobuf<4,>=3.9.2 in c:\\users\\user\\anaconda3\\lib\\site-packages (from tensorboard>=2.4.1->-r yolov5/requirements.txt (line 22)) (3.19.6)\n",
      "Requirement already satisfied: google-auth-oauthlib<0.5,>=0.4.1 in c:\\users\\user\\anaconda3\\lib\\site-packages (from tensorboard>=2.4.1->-r yolov5/requirements.txt (line 22)) (0.4.6)\n",
      "Requirement already satisfied: google-auth<3,>=1.6.3 in c:\\users\\user\\anaconda3\\lib\\site-packages (from tensorboard>=2.4.1->-r yolov5/requirements.txt (line 22)) (2.16.0)\n",
      "Requirement already satisfied: werkzeug>=1.0.1 in c:\\users\\user\\anaconda3\\lib\\site-packages (from tensorboard>=2.4.1->-r yolov5/requirements.txt (line 22)) (2.0.3)\n",
      "Requirement already satisfied: pytz>=2020.1 in c:\\users\\user\\anaconda3\\lib\\site-packages (from pandas>=1.1.4->-r yolov5/requirements.txt (line 27)) (2022.1)\n",
      "Requirement already satisfied: smmap<6,>=3.0.1 in c:\\users\\user\\anaconda3\\lib\\site-packages (from gitdb<5,>=4.0.1->gitpython->-r yolov5/requirements.txt (line 5)) (5.0.0)\n",
      "Requirement already satisfied: six>=1.9.0 in c:\\users\\user\\anaconda3\\lib\\site-packages (from google-auth<3,>=1.6.3->tensorboard>=2.4.1->-r yolov5/requirements.txt (line 22)) (1.16.0)\n",
      "Requirement already satisfied: cachetools<6.0,>=2.0.0 in c:\\users\\user\\anaconda3\\lib\\site-packages (from google-auth<3,>=1.6.3->tensorboard>=2.4.1->-r yolov5/requirements.txt (line 22)) (5.3.0)\n",
      "Requirement already satisfied: pyasn1-modules>=0.2.1 in c:\\users\\user\\anaconda3\\lib\\site-packages (from google-auth<3,>=1.6.3->tensorboard>=2.4.1->-r yolov5/requirements.txt (line 22)) (0.2.8)\n",
      "Requirement already satisfied: rsa<5,>=3.1.4 in c:\\users\\user\\anaconda3\\lib\\site-packages (from google-auth<3,>=1.6.3->tensorboard>=2.4.1->-r yolov5/requirements.txt (line 22)) (4.9)\n",
      "Requirement already satisfied: requests-oauthlib>=0.7.0 in c:\\users\\user\\anaconda3\\lib\\site-packages (from google-auth-oauthlib<0.5,>=0.4.1->tensorboard>=2.4.1->-r yolov5/requirements.txt (line 22)) (1.3.1)\n",
      "Requirement already satisfied: parso<0.9.0,>=0.8.0 in c:\\users\\user\\anaconda3\\lib\\site-packages (from jedi>=0.16->ipython->-r yolov5/requirements.txt (line 6)) (0.8.3)\n",
      "Requirement already satisfied: wcwidth in c:\\users\\user\\anaconda3\\lib\\site-packages (from prompt-toolkit!=3.0.0,!=3.0.1,<3.1.0,>=2.0.0->ipython->-r yolov5/requirements.txt (line 6)) (0.2.5)\n",
      "Requirement already satisfied: pyasn1<0.5.0,>=0.4.6 in c:\\users\\user\\anaconda3\\lib\\site-packages (from pyasn1-modules>=0.2.1->google-auth<3,>=1.6.3->tensorboard>=2.4.1->-r yolov5/requirements.txt (line 22)) (0.4.8)\n",
      "Requirement already satisfied: oauthlib>=3.0.0 in c:\\users\\user\\anaconda3\\lib\\site-packages (from requests-oauthlib>=0.7.0->google-auth-oauthlib<0.5,>=0.4.1->tensorboard>=2.4.1->-r yolov5/requirements.txt (line 22)) (3.2.2)\n"
     ]
    }
   ],
   "source": [
    "!pip install -r yolov5/requirements.txt"
   ]
  },
  {
   "cell_type": "code",
   "execution_count": 1,
   "id": "d1af9464",
   "metadata": {},
   "outputs": [],
   "source": [
    "import torch\n",
    "from matplotlib import pyplot as plt\n",
    "import numpy as np\n",
    "import cv2"
   ]
  },
  {
   "cell_type": "code",
   "execution_count": 2,
   "id": "7dfd980d",
   "metadata": {},
   "outputs": [
    {
     "name": "stderr",
     "output_type": "stream",
     "text": [
      "Using cache found in C:\\Users\\user/.cache\\torch\\hub\\ultralytics_yolov5_master\n",
      "YOLOv5  2023-1-31 Python-3.9.13 torch-1.13.1+cpu CPU\n",
      "\n",
      "Fusing layers... \n",
      "YOLOv5s summary: 213 layers, 7225885 parameters, 0 gradients\n",
      "Adding AutoShape... \n"
     ]
    }
   ],
   "source": [
    "model = torch.hub.load('ultralytics/yolov5','yolov5s')"
   ]
  },
  {
   "cell_type": "code",
   "execution_count": 3,
   "id": "62d8d2e5",
   "metadata": {},
   "outputs": [
    {
     "name": "stderr",
     "output_type": "stream",
     "text": [
      "image 1/1: 684x1025 61 cars\n",
      "Speed: 330.4ms pre-process, 230.4ms inference, 3.0ms NMS per image at shape (1, 3, 448, 640)\n"
     ]
    }
   ],
   "source": [
    "img = 'https://media.wired.com/photos/593256b42a990b06268a9e21/master/pass/traffic-jam-getty.jpg'\n",
    "results = model(img)\n",
    "results.print()"
   ]
  },
  {
   "cell_type": "code",
   "execution_count": 4,
   "id": "0bd8da24",
   "metadata": {},
   "outputs": [],
   "source": [
    "cap = cv2.VideoCapture(0)\n",
    "while cap.isOpened():\n",
    "  ret,frame = cap.read()\n",
    "  #make detections\n",
    "  results = model(frame)\n",
    "  cv2.imshow('YOLO',np.squeeze(results.render()))\n",
    "  if cv2.waitKey(10) & 0xFF == ord('q'):\n",
    "    break\n",
    "cap.release()\n",
    "cv2.destroyAllWindows()"
   ]
  },
  {
   "cell_type": "code",
   "execution_count": 5,
   "id": "c5841ed1",
   "metadata": {},
   "outputs": [],
   "source": [
    "import uuid #unique identifier\n",
    "import os\n",
    "import time"
   ]
  },
  {
   "cell_type": "code",
   "execution_count": 6,
   "id": "90746021",
   "metadata": {},
   "outputs": [],
   "source": [
    "IMAGES_PATH = os.path.join('data','images') #/data/images\n",
    "labels = ['awake','drowsy'] \n",
    "number_imgs = 20"
   ]
  },
  {
   "cell_type": "code",
   "execution_count": 7,
   "id": "1bb662f3",
   "metadata": {},
   "outputs": [
    {
     "name": "stdout",
     "output_type": "stream",
     "text": [
      "Collecting images for awake\n",
      "Collecting images for awake, image number 0\n",
      "Collecting images for awake, image number 1\n",
      "Collecting images for awake, image number 2\n",
      "Collecting images for awake, image number 3\n",
      "Collecting images for awake, image number 4\n",
      "Collecting images for awake, image number 5\n",
      "Collecting images for awake, image number 6\n",
      "Collecting images for awake, image number 7\n",
      "Collecting images for awake, image number 8\n",
      "Collecting images for awake, image number 9\n",
      "Collecting images for awake, image number 10\n",
      "Collecting images for awake, image number 11\n",
      "Collecting images for awake, image number 12\n",
      "Collecting images for awake, image number 13\n",
      "Collecting images for awake, image number 14\n",
      "Collecting images for awake, image number 15\n",
      "Collecting images for awake, image number 16\n",
      "Collecting images for awake, image number 17\n",
      "Collecting images for awake, image number 18\n",
      "Collecting images for awake, image number 19\n",
      "Collecting images for drowsy\n",
      "Collecting images for drowsy, image number 0\n",
      "Collecting images for drowsy, image number 1\n",
      "Collecting images for drowsy, image number 2\n",
      "Collecting images for drowsy, image number 3\n",
      "Collecting images for drowsy, image number 4\n",
      "Collecting images for drowsy, image number 5\n",
      "Collecting images for drowsy, image number 6\n",
      "Collecting images for drowsy, image number 7\n",
      "Collecting images for drowsy, image number 8\n",
      "Collecting images for drowsy, image number 9\n",
      "Collecting images for drowsy, image number 10\n",
      "Collecting images for drowsy, image number 11\n",
      "Collecting images for drowsy, image number 12\n",
      "Collecting images for drowsy, image number 13\n",
      "Collecting images for drowsy, image number 14\n",
      "Collecting images for drowsy, image number 15\n",
      "Collecting images for drowsy, image number 16\n",
      "Collecting images for drowsy, image number 17\n",
      "Collecting images for drowsy, image number 18\n",
      "Collecting images for drowsy, image number 19\n"
     ]
    }
   ],
   "source": [
    "cap = cv2.VideoCapture(0)\n",
    "# Loop through labels\n",
    "for label in labels:\n",
    "    print('Collecting images for {}'.format(label))\n",
    "    time.sleep(5)\n",
    "    \n",
    "    # Loop through image range\n",
    "    for img_num in range(number_imgs):\n",
    "        print('Collecting images for {}, image number {}'.format(label, img_num))\n",
    "        \n",
    "        # Webcam feed\n",
    "        ret, frame = cap.read()\n",
    "        \n",
    "        # Naming out image path\n",
    "        imgname = os.path.join(IMAGES_PATH, label+'.'+str(uuid.uuid1())+'.jpg')\n",
    "        \n",
    "        # Writes out image to file \n",
    "        cv2.imwrite(imgname, frame)\n",
    "        \n",
    "        # Render to the screen\n",
    "        cv2.imshow('Image Collection', frame)\n",
    "        \n",
    "        # 2 second delay between captures\n",
    "        time.sleep(2)\n",
    "        \n",
    "        if cv2.waitKey(10) & 0xFF == ord('q'):\n",
    "            break\n",
    "cap.release()\n",
    "cv2.destroyAllWindows()"
   ]
  },
  {
   "cell_type": "code",
   "execution_count": 8,
   "id": "e6ece9ed",
   "metadata": {},
   "outputs": [
    {
     "name": "stdout",
     "output_type": "stream",
     "text": [
      "Collecting images for awake\n",
      "Collecting images for awake , image number 0 \n",
      "data\\images\\awake.3207a1a0-a16b-11ed-9377-f044cbdbf552.jpg\n",
      "Collecting images for awake , image number 1 \n",
      "data\\images\\awake.3207a1a1-a16b-11ed-abe4-f044cbdbf552.jpg\n",
      "Collecting images for awake , image number 2 \n",
      "data\\images\\awake.3207a1a2-a16b-11ed-ae07-f044cbdbf552.jpg\n",
      "Collecting images for awake , image number 3 \n",
      "data\\images\\awake.3207a1a3-a16b-11ed-8a69-f044cbdbf552.jpg\n",
      "Collecting images for awake , image number 4 \n",
      "data\\images\\awake.3207a1a4-a16b-11ed-850b-f044cbdbf552.jpg\n",
      "Collecting images for awake , image number 5 \n",
      "data\\images\\awake.3207a1a5-a16b-11ed-b366-f044cbdbf552.jpg\n",
      "Collecting images for awake , image number 6 \n",
      "data\\images\\awake.3207a1a6-a16b-11ed-ae36-f044cbdbf552.jpg\n",
      "Collecting images for awake , image number 7 \n",
      "data\\images\\awake.3207a1a7-a16b-11ed-b936-f044cbdbf552.jpg\n",
      "Collecting images for awake , image number 8 \n",
      "data\\images\\awake.3207a1a8-a16b-11ed-b4aa-f044cbdbf552.jpg\n",
      "Collecting images for awake , image number 9 \n",
      "data\\images\\awake.3207a1a9-a16b-11ed-b9c6-f044cbdbf552.jpg\n",
      "Collecting images for awake , image number 10 \n",
      "data\\images\\awake.3207a1aa-a16b-11ed-a899-f044cbdbf552.jpg\n",
      "Collecting images for awake , image number 11 \n",
      "data\\images\\awake.3207a1ab-a16b-11ed-ba47-f044cbdbf552.jpg\n",
      "Collecting images for awake , image number 12 \n",
      "data\\images\\awake.3207a1ac-a16b-11ed-8692-f044cbdbf552.jpg\n",
      "Collecting images for awake , image number 13 \n",
      "data\\images\\awake.3207a1ad-a16b-11ed-a491-f044cbdbf552.jpg\n",
      "Collecting images for awake , image number 14 \n",
      "data\\images\\awake.3207a1ae-a16b-11ed-a623-f044cbdbf552.jpg\n",
      "Collecting images for awake , image number 15 \n",
      "data\\images\\awake.3207a1af-a16b-11ed-8b98-f044cbdbf552.jpg\n",
      "Collecting images for awake , image number 16 \n",
      "data\\images\\awake.3207a1b0-a16b-11ed-8db9-f044cbdbf552.jpg\n",
      "Collecting images for awake , image number 17 \n",
      "data\\images\\awake.3207a1b1-a16b-11ed-aab1-f044cbdbf552.jpg\n",
      "Collecting images for awake , image number 18 \n",
      "data\\images\\awake.3207a1b2-a16b-11ed-9855-f044cbdbf552.jpg\n",
      "Collecting images for awake , image number 19 \n",
      "data\\images\\awake.3207a1b3-a16b-11ed-a3a2-f044cbdbf552.jpg\n",
      "Collecting images for drowsy\n",
      "Collecting images for drowsy , image number 0 \n",
      "data\\images\\drowsy.3207a1b4-a16b-11ed-adec-f044cbdbf552.jpg\n",
      "Collecting images for drowsy , image number 1 \n",
      "data\\images\\drowsy.3207a1b5-a16b-11ed-b4be-f044cbdbf552.jpg\n",
      "Collecting images for drowsy , image number 2 \n",
      "data\\images\\drowsy.3207a1b6-a16b-11ed-a897-f044cbdbf552.jpg\n",
      "Collecting images for drowsy , image number 3 \n",
      "data\\images\\drowsy.3207a1b7-a16b-11ed-949b-f044cbdbf552.jpg\n",
      "Collecting images for drowsy , image number 4 \n",
      "data\\images\\drowsy.3207a1b8-a16b-11ed-a7e5-f044cbdbf552.jpg\n",
      "Collecting images for drowsy , image number 5 \n",
      "data\\images\\drowsy.3207a1b9-a16b-11ed-b8b9-f044cbdbf552.jpg\n",
      "Collecting images for drowsy , image number 6 \n",
      "data\\images\\drowsy.3207a1ba-a16b-11ed-89f6-f044cbdbf552.jpg\n",
      "Collecting images for drowsy , image number 7 \n",
      "data\\images\\drowsy.3207a1bb-a16b-11ed-bc33-f044cbdbf552.jpg\n",
      "Collecting images for drowsy , image number 8 \n",
      "data\\images\\drowsy.3207a1bc-a16b-11ed-a8eb-f044cbdbf552.jpg\n",
      "Collecting images for drowsy , image number 9 \n",
      "data\\images\\drowsy.3207a1bd-a16b-11ed-84e4-f044cbdbf552.jpg\n",
      "Collecting images for drowsy , image number 10 \n",
      "data\\images\\drowsy.3207a1be-a16b-11ed-9f4e-f044cbdbf552.jpg\n",
      "Collecting images for drowsy , image number 11 \n",
      "data\\images\\drowsy.3207a1bf-a16b-11ed-8189-f044cbdbf552.jpg\n",
      "Collecting images for drowsy , image number 12 \n",
      "data\\images\\drowsy.3207a1c0-a16b-11ed-af39-f044cbdbf552.jpg\n",
      "Collecting images for drowsy , image number 13 \n",
      "data\\images\\drowsy.3207a1c1-a16b-11ed-a6f8-f044cbdbf552.jpg\n",
      "Collecting images for drowsy , image number 14 \n",
      "data\\images\\drowsy.3207a1c2-a16b-11ed-8bf1-f044cbdbf552.jpg\n",
      "Collecting images for drowsy , image number 15 \n",
      "data\\images\\drowsy.3207a1c3-a16b-11ed-a0c2-f044cbdbf552.jpg\n",
      "Collecting images for drowsy , image number 16 \n",
      "data\\images\\drowsy.3207a1c4-a16b-11ed-af00-f044cbdbf552.jpg\n",
      "Collecting images for drowsy , image number 17 \n",
      "data\\images\\drowsy.3207c882-a16b-11ed-be99-f044cbdbf552.jpg\n",
      "Collecting images for drowsy , image number 18 \n",
      "data\\images\\drowsy.3207c883-a16b-11ed-b4de-f044cbdbf552.jpg\n",
      "Collecting images for drowsy , image number 19 \n",
      "data\\images\\drowsy.3207c884-a16b-11ed-a90f-f044cbdbf552.jpg\n"
     ]
    }
   ],
   "source": [
    "for label in labels:\n",
    "    print('Collecting images for {}'.format(label))\n",
    "    for img_num in range(number_imgs):\n",
    "        print('Collecting images for {} , image number {} '.format(label,img_num))\n",
    "        imgname = os.path.join(IMAGES_PATH,label+'.'+str(uuid.uuid1())+'.jpg') \n",
    "        print(imgname)"
   ]
  },
  {
   "cell_type": "code",
   "execution_count": null,
   "id": "b2803d6e",
   "metadata": {},
   "outputs": [],
   "source": []
  }
 ],
 "metadata": {
  "kernelspec": {
   "display_name": "Python 3 (ipykernel)",
   "language": "python",
   "name": "python3"
  },
  "language_info": {
   "codemirror_mode": {
    "name": "ipython",
    "version": 3
   },
   "file_extension": ".py",
   "mimetype": "text/x-python",
   "name": "python",
   "nbconvert_exporter": "python",
   "pygments_lexer": "ipython3",
   "version": "3.9.13"
  }
 },
 "nbformat": 4,
 "nbformat_minor": 5
}
